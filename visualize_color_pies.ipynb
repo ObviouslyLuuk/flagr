{
 "cells": [
  {
   "cell_type": "code",
   "execution_count": null,
   "metadata": {},
   "outputs": [],
   "source": [
    "from matplotlib import pyplot as plt\n",
    "import numpy as np\n",
    "import json\n",
    "import os\n",
    "\n",
    "\n",
    "COUNTRIES_PATH = os.path.join(\"images\", \"png\", \"countries\")\n",
    "png_paths = [os.path.join(COUNTRIES_PATH, nm) for nm in os.listdir(COUNTRIES_PATH)]\n",
    "\n",
    "with open(\"code2country.json\", \"r\") as f:\n",
    "    code2country = json.load(f)\n",
    "\n",
    "country2code = {v:k for k,v in code2country.items()}\n",
    "\n",
    "# load the color distributions from json file named \"color_distribs.json\"\n",
    "with open(\"color_distribs_new.json\", \"r\") as f:\n",
    "    color_distrs = json.load(f)\n",
    "\n",
    "# convert the inner keys back to tuples\n",
    "color_distrs = {k:{tuple(eval(kk)):vv for kk,vv in v.items()} for k,v in color_distrs.items()}\n",
    "color_distrs"
   ]
  },
  {
   "cell_type": "code",
   "execution_count": null,
   "metadata": {},
   "outputs": [],
   "source": [
    "# Plot a flag with the pie chart of the color distribution to the right\n",
    "def plot_flag_with_pie(code):\n",
    "    fig = plt.figure(figsize=(10,5))\n",
    "    ax1 = fig.add_subplot(121)\n",
    "    ax2 = fig.add_subplot(122)\n",
    "    ax1.axis(\"off\")\n",
    "    ax2.axis(\"off\")\n",
    "    ax1.imshow(plt.imread(os.path.join(COUNTRIES_PATH, code + \".png\")))\n",
    "    # Pie chart with percentages next\n",
    "    ax2.pie(color_distrs[code].values(), colors=color_distrs[code].keys(), labels=color_distrs[code].values())\n",
    "    \n",
    "    plt.show()\n",
    "\n",
    "# Plot all flags with pie charts\n",
    "for code in color_distrs.keys():\n",
    "    plot_flag_with_pie(code)"
   ]
  }
 ],
 "metadata": {
  "kernelspec": {
   "display_name": "Python 3",
   "language": "python",
   "name": "python3"
  },
  "language_info": {
   "codemirror_mode": {
    "name": "ipython",
    "version": 3
   },
   "file_extension": ".py",
   "mimetype": "text/x-python",
   "name": "python",
   "nbconvert_exporter": "python",
   "pygments_lexer": "ipython3",
   "version": "3.7.9"
  },
  "orig_nbformat": 4
 },
 "nbformat": 4,
 "nbformat_minor": 2
}
